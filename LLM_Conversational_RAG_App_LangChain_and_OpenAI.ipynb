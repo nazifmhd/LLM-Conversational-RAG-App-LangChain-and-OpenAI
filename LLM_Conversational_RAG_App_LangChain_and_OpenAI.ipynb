{
  "nbformat": 4,
  "nbformat_minor": 0,
  "metadata": {
    "colab": {
      "provenance": [],
      "mount_file_id": "1hV3WJlrxSsmiNzlzY9F1iOPnq8eSSrUY",
      "authorship_tag": "ABX9TyM8NTniTp3C2xZkgdyLzwwy",
      "include_colab_link": true
    },
    "kernelspec": {
      "name": "python3",
      "display_name": "Python 3"
    },
    "language_info": {
      "name": "python"
    }
  },
  "cells": [
    {
      "cell_type": "markdown",
      "metadata": {
        "id": "view-in-github",
        "colab_type": "text"
      },
      "source": [
        "<a href=\"https://colab.research.google.com/github/Sankalpa0011/LLM-Conversational-RAG-App-LangChain-and-OpenAI/blob/main/LLM_Conversational_RAG_App_LangChain_and_OpenAI.ipynb\" target=\"_parent\"><img src=\"https://colab.research.google.com/assets/colab-badge.svg\" alt=\"Open In Colab\"/></a>"
      ]
    },
    {
      "cell_type": "markdown",
      "source": [
        "# **Conversational Rag Application With LangChain And OpenAI LLM**"
      ],
      "metadata": {
        "id": "O23IIizyJXxr"
      }
    },
    {
      "cell_type": "code",
      "source": [
        "from google.colab import drive\n",
        "drive.mount('/content/drive')"
      ],
      "metadata": {
        "colab": {
          "base_uri": "https://localhost:8080/"
        },
        "id": "MC32K3MeJqr4",
        "outputId": "64183f40-d96c-4827-96d3-7c1e72bce58b"
      },
      "execution_count": 1,
      "outputs": [
        {
          "output_type": "stream",
          "name": "stdout",
          "text": [
            "Drive already mounted at /content/drive; to attempt to forcibly remount, call drive.mount(\"/content/drive\", force_remount=True).\n"
          ]
        }
      ]
    },
    {
      "cell_type": "code",
      "source": [
        "# Install the necessary packages\n",
        "!pip install langchain -qU\n",
        "!pip install langchain-openai -qU\n",
        "!pip install langchain-chroma -qU\n",
        "!pip install langchain-community -qU"
      ],
      "metadata": {
        "id": "DrkriQqnQnNf"
      },
      "execution_count": 2,
      "outputs": []
    },
    {
      "cell_type": "code",
      "source": [
        "import os\n",
        "from google.colab import userdata"
      ],
      "metadata": {
        "id": "DoEtw7fFRQyS"
      },
      "execution_count": 3,
      "outputs": []
    },
    {
      "cell_type": "markdown",
      "source": [
        "## **Initialize OpenAI LLM**"
      ],
      "metadata": {
        "id": "nIaJxi5fRWy7"
      }
    },
    {
      "cell_type": "code",
      "source": [
        "from langchain_openai import ChatOpenAI\n",
        "\n",
        "# set OpenAI API key\n",
        "os.environ[\"OPENAI_API_KEY\"] = userdata.get(\"OPENAI_API_KEY\")\n",
        "\n",
        "# initialize the ChatOpenAI model\n",
        "llm = ChatOpenAI(\n",
        "    model = \"gpt-3.5-turbo\",\n",
        "    temperature = 0\n",
        ")"
      ],
      "metadata": {
        "id": "t6Tz07-KRVjM"
      },
      "execution_count": 4,
      "outputs": []
    },
    {
      "cell_type": "markdown",
      "source": [
        "## **Initialize Embedding Model**"
      ],
      "metadata": {
        "id": "m_0fFopasmME"
      }
    },
    {
      "cell_type": "code",
      "source": [
        "from langchain_openai import OpenAIEmbeddings\n",
        "\n",
        "embedding_model = OpenAIEmbeddings(\n",
        "    model=\"text-embedding-3-small\"\n",
        ")"
      ],
      "metadata": {
        "id": "JliGaBiosei5"
      },
      "execution_count": 5,
      "outputs": []
    },
    {
      "cell_type": "markdown",
      "source": [
        "## **Load PDF Document**"
      ],
      "metadata": {
        "id": "wEGqzO3Us61H"
      }
    },
    {
      "cell_type": "code",
      "source": [
        "!pip install pypdf -qU"
      ],
      "metadata": {
        "id": "HFK2_NxatWYl"
      },
      "execution_count": 6,
      "outputs": []
    },
    {
      "cell_type": "code",
      "source": [
        "from langchain_community.document_loaders import PyPDFLoader\n",
        "\n",
        "# load the pdf document\n",
        "loader = PyPDFLoader(\"/content/drive/MyDrive/CodeProLK DL/LLM Conversational RAG App LangChain And OpenAI/kavindusankalpa.pdf\")\n",
        "\n",
        "docs = loader.load()"
      ],
      "metadata": {
        "id": "A7teXXAys6JN"
      },
      "execution_count": 7,
      "outputs": []
    },
    {
      "cell_type": "code",
      "source": [
        "len(docs)  # page count"
      ],
      "metadata": {
        "colab": {
          "base_uri": "https://localhost:8080/"
        },
        "id": "aza9bt-ttQj-",
        "outputId": "3ecca7f2-7020-48ba-e104-197975832838"
      },
      "execution_count": 8,
      "outputs": [
        {
          "output_type": "execute_result",
          "data": {
            "text/plain": [
              "3"
            ]
          },
          "metadata": {},
          "execution_count": 8
        }
      ]
    },
    {
      "cell_type": "code",
      "source": [
        "docs[0]"
      ],
      "metadata": {
        "colab": {
          "base_uri": "https://localhost:8080/"
        },
        "id": "xtTN9gUEtauc",
        "outputId": "5f49646d-d709-49b8-bac3-14371644a577"
      },
      "execution_count": 9,
      "outputs": [
        {
          "output_type": "execute_result",
          "data": {
            "text/plain": [
              "Document(metadata={'source': '/content/drive/MyDrive/CodeProLK DL/LLM Conversational RAG App LangChain And OpenAI/kavindusankalpa.pdf', 'page': 0}, page_content=' Introduction to Kavindu Sankalpa  \\nKavindu Sankalpa is a dedicated Information Technology undergraduate at the Institute of \\nTechnology, University of Moratuwa. Hailing from Mandaram Nuwara, Kandy, Sri Lanka, \\nKavindu is passionate about leveraging technology to solve real -world problems and drive \\ninnovation.  \\nAcademic Background and Achievements  \\nEducation  \\n• Institution:  Institute of Technology, University of Moratuwa  \\n• Major:  Information Technology  \\n• SGPA:  3.34 \\n• First Semester GPA:  3.24 \\n• Second Semester GPA:  3.15 \\n• Notable Coursework:  Python, NumPy, scikit -learn, MySQL  \\nAcademic Projects  \\n• Spatial Distribution Patterns of Trees:  Led data analysis and visualization using R \\nStudio. Collaborated with Hansika Shamal under the guidance of Pasindu Perera from \\nFiverr.  \\n• Eye Tracking Dataset Analysis:  Analyzed data using Tobii Eye Tracker 2150 to study \\nthe effects of static vs. animated graphs on cognitive load, with pupil dilation as the \\nprimary metric.  \\nProfessional Experience  \\nProduction Supervisor  \\nKavindu has demonstrated strong leadership and management skills through his role as a \\nproduction supervisor. He has effectively coordinated team efforts and ensured the smooth \\noperation of production processes.  \\nSkills and Expertise  \\n• Programming Languages:  Python, R  \\n• Data Analysis and Machine Learning:  Proficient in using libraries such as NumPy, \\nscikit -learn, and others essential for data analysis and machine learning.  \\n• Database Management:  Skilled in MySQL  \\n• Tools and Software:  AMOS, EViews, Jamovi, Minitab, SmartPLS, Mplus  \\nLeadership and Teamwork  ')"
            ]
          },
          "metadata": {},
          "execution_count": 9
        }
      ]
    },
    {
      "cell_type": "code",
      "source": [
        "docs[0].metadata"
      ],
      "metadata": {
        "colab": {
          "base_uri": "https://localhost:8080/"
        },
        "id": "mQDB7qZHtmln",
        "outputId": "fdcce6cb-297b-4b3b-b4d5-cdb464cc2ad1"
      },
      "execution_count": 10,
      "outputs": [
        {
          "output_type": "execute_result",
          "data": {
            "text/plain": [
              "{'source': '/content/drive/MyDrive/CodeProLK DL/LLM Conversational RAG App LangChain And OpenAI/kavindusankalpa.pdf',\n",
              " 'page': 0}"
            ]
          },
          "metadata": {},
          "execution_count": 10
        }
      ]
    },
    {
      "cell_type": "code",
      "source": [
        "docs[0].page_content"
      ],
      "metadata": {
        "colab": {
          "base_uri": "https://localhost:8080/",
          "height": 123
        },
        "id": "HETvq6ZNtudo",
        "outputId": "58c7c9e7-01e6-433e-868a-ec6630d214b8"
      },
      "execution_count": 11,
      "outputs": [
        {
          "output_type": "execute_result",
          "data": {
            "text/plain": [
              "' Introduction to Kavindu Sankalpa  \\nKavindu Sankalpa is a dedicated Information Technology undergraduate at the Institute of \\nTechnology, University of Moratuwa. Hailing from Mandaram Nuwara, Kandy, Sri Lanka, \\nKavindu is passionate about leveraging technology to solve real -world problems and drive \\ninnovation.  \\nAcademic Background and Achievements  \\nEducation  \\n• Institution:  Institute of Technology, University of Moratuwa  \\n• Major:  Information Technology  \\n• SGPA:  3.34 \\n• First Semester GPA:  3.24 \\n• Second Semester GPA:  3.15 \\n• Notable Coursework:  Python, NumPy, scikit -learn, MySQL  \\nAcademic Projects  \\n• Spatial Distribution Patterns of Trees:  Led data analysis and visualization using R \\nStudio. Collaborated with Hansika Shamal under the guidance of Pasindu Perera from \\nFiverr.  \\n• Eye Tracking Dataset Analysis:  Analyzed data using Tobii Eye Tracker 2150 to study \\nthe effects of static vs. animated graphs on cognitive load, with pupil dilation as the \\nprimary metric.  \\nProfessional Experience  \\nProduction Supervisor  \\nKavindu has demonstrated strong leadership and management skills through his role as a \\nproduction supervisor. He has effectively coordinated team efforts and ensured the smooth \\noperation of production processes.  \\nSkills and Expertise  \\n• Programming Languages:  Python, R  \\n• Data Analysis and Machine Learning:  Proficient in using libraries such as NumPy, \\nscikit -learn, and others essential for data analysis and machine learning.  \\n• Database Management:  Skilled in MySQL  \\n• Tools and Software:  AMOS, EViews, Jamovi, Minitab, SmartPLS, Mplus  \\nLeadership and Teamwork  '"
            ],
            "application/vnd.google.colaboratory.intrinsic+json": {
              "type": "string"
            }
          },
          "metadata": {},
          "execution_count": 11
        }
      ]
    },
    {
      "cell_type": "markdown",
      "source": [
        "## **Split Documents Into Chunks**"
      ],
      "metadata": {
        "id": "2EECpXL3tevT"
      }
    },
    {
      "cell_type": "code",
      "source": [
        "from langchain_text_splitters import RecursiveCharacterTextSplitter\n",
        "\n",
        "# initialize the text splitter\n",
        "text_splitter = RecursiveCharacterTextSplitter(\n",
        "    chunk_size = 400,\n",
        "    chunk_overlap = 50,\n",
        ")\n",
        "\n",
        "# split the document into chunks\n",
        "splits = text_splitter.split_documents(docs)"
      ],
      "metadata": {
        "id": "y3A4t92jtbx6"
      },
      "execution_count": 12,
      "outputs": []
    },
    {
      "cell_type": "code",
      "source": [
        "len(splits)"
      ],
      "metadata": {
        "colab": {
          "base_uri": "https://localhost:8080/"
        },
        "id": "-Nn_qA8JuR3S",
        "outputId": "a2147dfd-232b-4ebf-9713-508d5eb4cb70"
      },
      "execution_count": 13,
      "outputs": [
        {
          "output_type": "execute_result",
          "data": {
            "text/plain": [
              "14"
            ]
          },
          "metadata": {},
          "execution_count": 13
        }
      ]
    },
    {
      "cell_type": "code",
      "source": [
        "splits"
      ],
      "metadata": {
        "colab": {
          "base_uri": "https://localhost:8080/"
        },
        "id": "AmeYZoOOulpd",
        "outputId": "d9fac2da-7735-4f6f-8f09-e6261145218c"
      },
      "execution_count": 14,
      "outputs": [
        {
          "output_type": "execute_result",
          "data": {
            "text/plain": [
              "[Document(metadata={'source': '/content/drive/MyDrive/CodeProLK DL/LLM Conversational RAG App LangChain And OpenAI/kavindusankalpa.pdf', 'page': 0}, page_content='Introduction to Kavindu Sankalpa  \\nKavindu Sankalpa is a dedicated Information Technology undergraduate at the Institute of \\nTechnology, University of Moratuwa. Hailing from Mandaram Nuwara, Kandy, Sri Lanka, \\nKavindu is passionate about leveraging technology to solve real -world problems and drive \\ninnovation.  \\nAcademic Background and Achievements  \\nEducation'),\n",
              " Document(metadata={'source': '/content/drive/MyDrive/CodeProLK DL/LLM Conversational RAG App LangChain And OpenAI/kavindusankalpa.pdf', 'page': 0}, page_content='Education  \\n• Institution:  Institute of Technology, University of Moratuwa  \\n• Major:  Information Technology  \\n• SGPA:  3.34 \\n• First Semester GPA:  3.24 \\n• Second Semester GPA:  3.15 \\n• Notable Coursework:  Python, NumPy, scikit -learn, MySQL  \\nAcademic Projects  \\n• Spatial Distribution Patterns of Trees:  Led data analysis and visualization using R'),\n",
              " Document(metadata={'source': '/content/drive/MyDrive/CodeProLK DL/LLM Conversational RAG App LangChain And OpenAI/kavindusankalpa.pdf', 'page': 0}, page_content='Studio. Collaborated with Hansika Shamal under the guidance of Pasindu Perera from \\nFiverr.  \\n• Eye Tracking Dataset Analysis:  Analyzed data using Tobii Eye Tracker 2150 to study \\nthe effects of static vs. animated graphs on cognitive load, with pupil dilation as the \\nprimary metric.  \\nProfessional Experience  \\nProduction Supervisor'),\n",
              " Document(metadata={'source': '/content/drive/MyDrive/CodeProLK DL/LLM Conversational RAG App LangChain And OpenAI/kavindusankalpa.pdf', 'page': 0}, page_content='Professional Experience  \\nProduction Supervisor  \\nKavindu has demonstrated strong leadership and management skills through his role as a \\nproduction supervisor. He has effectively coordinated team efforts and ensured the smooth \\noperation of production processes.  \\nSkills and Expertise  \\n• Programming Languages:  Python, R'),\n",
              " Document(metadata={'source': '/content/drive/MyDrive/CodeProLK DL/LLM Conversational RAG App LangChain And OpenAI/kavindusankalpa.pdf', 'page': 0}, page_content='• Programming Languages:  Python, R  \\n• Data Analysis and Machine Learning:  Proficient in using libraries such as NumPy, \\nscikit -learn, and others essential for data analysis and machine learning.  \\n• Database Management:  Skilled in MySQL  \\n• Tools and Software:  AMOS, EViews, Jamovi, Minitab, SmartPLS, Mplus  \\nLeadership and Teamwork'),\n",
              " Document(metadata={'source': '/content/drive/MyDrive/CodeProLK DL/LLM Conversational RAG App LangChain And OpenAI/kavindusankalpa.pdf', 'page': 1}, page_content='Kavindu has a rich background in leadership and teamwork, gained through his experiences as a \\ncadet and a cricket player. These roles have honed his ability to lead teams, work collaboratively, \\nand achieve common goals.  \\nProfessional Services  \\nFiverr  \\nKavindu offers data analysis services on Fiverr, utilizing his technical skills to provide valuable \\ninsights. His services include:'),\n",
              " Document(metadata={'source': '/content/drive/MyDrive/CodeProLK DL/LLM Conversational RAG App LangChain And OpenAI/kavindusankalpa.pdf', 'page': 1}, page_content=\"insights. His services include:  \\n• Platforms:  Python, R, AMOS, EViews, Jamovi, Minitab, SmartPLS, Mplus  \\n• Packages:  Single package (Silver Package) priced at $10  \\nProjects  \\nLarge Language Models (LLM)  \\n• Gemini Pro Chatbot Project:  Developed a sophisticated chatbot using Google's Gemini \\nPro and Streamlit, aimed at enhancing user interaction and providing intelligent\"),\n",
              " Document(metadata={'source': '/content/drive/MyDrive/CodeProLK DL/LLM Conversational RAG App LangChain And OpenAI/kavindusankalpa.pdf', 'page': 1}, page_content='responses. The project repository can be found on GitHub here. \\nDeep Learning  \\n• Neural Network Projects:  Worked on various neural network projects focusing on \\nimproving model accuracy and efficiency. These projects include developing \\nconvolutional neural networks (CNNs) for image classification and recurrent neural \\nnetworks (RNNs) for natural language proces sing tasks.  \\nMachine Learning'),\n",
              " Document(metadata={'source': '/content/drive/MyDrive/CodeProLK DL/LLM Conversational RAG App LangChain And OpenAI/kavindusankalpa.pdf', 'page': 1}, page_content='Machine Learning  \\n• Machine Learning Projects:  \\no Sentiment Analysis:  Created a sentiment analysis model to classify text data as \\npositive, negative, or neutral. Utilized techniques such as TF -IDF, Word2Vec, \\nand various machine learning algorithms.  \\no Laptop Price Predictor:  Built a regression model to predict laptop prices based'),\n",
              " Document(metadata={'source': '/content/drive/MyDrive/CodeProLK DL/LLM Conversational RAG App LangChain And OpenAI/kavindusankalpa.pdf', 'page': 1}, page_content='on features such as brand, specifications, and market trends.  \\no Customer Churn Prediction:  Developed a model to predict customer churn in a \\nsubscription -based service, helping businesses to implement retention strategies.  \\nCommunity Involvement and Networking  \\nKavindu actively participates in community events and networking opportunities to enhance his'),\n",
              " Document(metadata={'source': '/content/drive/MyDrive/CodeProLK DL/LLM Conversational RAG App LangChain And OpenAI/kavindusankalpa.pdf', 'page': 1}, page_content='knowledge and professional connections. Notably, he attended the AI Community Sri Lanka \\nMay Meetup at Microsoft Sri Lanka.'),\n",
              " Document(metadata={'source': '/content/drive/MyDrive/CodeProLK DL/LLM Conversational RAG App LangChain And OpenAI/kavindusankalpa.pdf', 'page': 2}, page_content='Personal Interests and Milestones  \\n• AI and Data Science Enthusiast:  Kavindu is deeply interested in AI and data science, \\ncontinually seeking to expand his knowledge and skills in these areas.  \\n• GitHub Projects:  Maintains a repository for the Gemini Pro Chatbot project \\n(https://github.com/Sankalpa0011/LLM -Chatbot -Google -s-Gemini -Pro-Streamlit ).'),\n",
              " Document(metadata={'source': '/content/drive/MyDrive/CodeProLK DL/LLM Conversational RAG App LangChain And OpenAI/kavindusankalpa.pdf', 'page': 2}, page_content=\"• Course Completion:  Completed the 'Building Systems With The ChatGPT API' course \\nby Isa Fulford and Andrew Ng.  \\nPersonal Information  \\n• Date of Birth:  November 28, 2000  \\n• Email:  sankalpakavindu09@gmail.com  \\nVision and Future Directions  \\nKavindu aims to pursue a top -up degree in data science in Sri Lanka. He is committed to\"),\n",
              " Document(metadata={'source': '/content/drive/MyDrive/CodeProLK DL/LLM Conversational RAG App LangChain And OpenAI/kavindusankalpa.pdf', 'page': 2}, page_content='continuous learning and professional development, with a goal to make a significant impact in \\nthe field of technology.  \\nConclusion  \\nKavindu Sankalpa is an analytical innovator, pushing the boundaries of what data can reveal. His \\nblend of technical expertise, leadership skills, and passion for data science positions him as a \\npromising professional in the tech industry.')]"
            ]
          },
          "metadata": {},
          "execution_count": 14
        }
      ]
    },
    {
      "cell_type": "markdown",
      "source": [
        "## **Create Vector Store And Retriever**"
      ],
      "metadata": {
        "id": "TiuFVb8bubOT"
      }
    },
    {
      "cell_type": "code",
      "source": [
        "from langchain_chroma import Chroma\n",
        "\n",
        "# create vector store from the document chunks\n",
        "vectorstore = Chroma.from_documents(\n",
        "    documents = splits,\n",
        "    embedding = embedding_model\n",
        ")"
      ],
      "metadata": {
        "id": "b4GcOhn0uZGC"
      },
      "execution_count": 15,
      "outputs": []
    },
    {
      "cell_type": "code",
      "source": [
        "# create a retriever from the vector store\n",
        "retriever = vectorstore.as_retriever()"
      ],
      "metadata": {
        "id": "NU1kpK1U09Jb"
      },
      "execution_count": 16,
      "outputs": []
    },
    {
      "cell_type": "markdown",
      "source": [
        "## **Define Prompt Template**"
      ],
      "metadata": {
        "id": "0znR54Pt1HEL"
      }
    },
    {
      "cell_type": "code",
      "source": [
        "from langchain_core.prompts import ChatPromptTemplate\n",
        "\n",
        "# define the system prompt\n",
        "system_prompt = (\n",
        "    \"You are an itelligent chatbot. Use the following context to answer the question.If you don't know the answer, just say that you don't know.\"\n",
        "    \"\\n\\n\"\n",
        "    \"{context}\"\n",
        ")\n",
        "\n",
        "# create the prompt template\n",
        "prompt = ChatPromptTemplate.from_messages(\n",
        "    [\n",
        "        (\"system\", system_prompt),\n",
        "        (\"user\", \"{input}\"),\n",
        "    ]\n",
        ")"
      ],
      "metadata": {
        "id": "WAx4t4ZO1GRz"
      },
      "execution_count": 17,
      "outputs": []
    },
    {
      "cell_type": "code",
      "source": [
        "prompt"
      ],
      "metadata": {
        "colab": {
          "base_uri": "https://localhost:8080/"
        },
        "id": "R3eKhPa53aLd",
        "outputId": "c25f84b1-0446-453f-821d-3d616fca29f2"
      },
      "execution_count": 18,
      "outputs": [
        {
          "output_type": "execute_result",
          "data": {
            "text/plain": [
              "ChatPromptTemplate(input_variables=['context', 'input'], messages=[SystemMessagePromptTemplate(prompt=PromptTemplate(input_variables=['context'], template=\"You are an itelligent chatbot. Use the following context to answer the question.If you don't know the answer, just say that you don't know.\\n\\n{context}\")), HumanMessagePromptTemplate(prompt=PromptTemplate(input_variables=['input'], template='{input}'))])"
            ]
          },
          "metadata": {},
          "execution_count": 18
        }
      ]
    },
    {
      "cell_type": "markdown",
      "source": [
        "## **Create RAG Chain**"
      ],
      "metadata": {
        "id": "Ntceyb2d3kZe"
      }
    },
    {
      "cell_type": "code",
      "source": [
        "from langchain.chains import create_retrieval_chain\n",
        "from langchain.chains.combine_documents import create_stuff_documents_chain\n",
        "\n",
        "# create the question answering chain\n",
        "qa_chain = create_stuff_documents_chain(llm, prompt)\n",
        "\n",
        "# create the RAG chain\n",
        "rag_chain = create_retrieval_chain(retriever, qa_chain)"
      ],
      "metadata": {
        "id": "f-A3tz753gnw"
      },
      "execution_count": 19,
      "outputs": []
    },
    {
      "cell_type": "markdown",
      "source": [
        "## **Invoke RAG Chain With Example Question**"
      ],
      "metadata": {
        "id": "g-S-0UVW4dVY"
      }
    },
    {
      "cell_type": "code",
      "source": [
        "response = rag_chain.invoke({\"input\": \"Who is Sankalpa?\"})\n",
        "response[\"answer\"]"
      ],
      "metadata": {
        "colab": {
          "base_uri": "https://localhost:8080/",
          "height": 53
        },
        "id": "l6bITB6t4hcB",
        "outputId": "f85379ae-0b8e-4fb1-8f57-4c3624882ea0"
      },
      "execution_count": 20,
      "outputs": [
        {
          "output_type": "execute_result",
          "data": {
            "text/plain": [
              "'Sankalpa is a dedicated Information Technology undergraduate at the Institute of Technology, University of Moratuwa, who is passionate about leveraging technology to solve real-world problems and drive innovation.'"
            ],
            "application/vnd.google.colaboratory.intrinsic+json": {
              "type": "string"
            }
          },
          "metadata": {},
          "execution_count": 20
        }
      ]
    },
    {
      "cell_type": "code",
      "source": [
        "response = rag_chain.invoke({\"input\": \"What is RAG Architecture\"})\n",
        "response[\"answer\"]"
      ],
      "metadata": {
        "colab": {
          "base_uri": "https://localhost:8080/",
          "height": 53
        },
        "id": "NX8Fevp94x4H",
        "outputId": "afc93b3a-46ec-425d-f218-af80edacb2e9"
      },
      "execution_count": 21,
      "outputs": [
        {
          "output_type": "execute_result",
          "data": {
            "text/plain": [
              "\"I'm sorry, but based on the context provided, I don't have information specifically about RAG Architecture. If you have any other questions or need clarification on a different topic, feel free to ask!\""
            ],
            "application/vnd.google.colaboratory.intrinsic+json": {
              "type": "string"
            }
          },
          "metadata": {},
          "execution_count": 21
        }
      ]
    },
    {
      "cell_type": "code",
      "source": [
        "response = rag_chain.invoke({\"input\": \"What are the skills Sankalpa have?\"})\n",
        "response[\"answer\"]"
      ],
      "metadata": {
        "colab": {
          "base_uri": "https://localhost:8080/",
          "height": 70
        },
        "id": "HO725xuQCBNy",
        "outputId": "c10b1410-e041-40c3-8745-3512ce113ee1"
      },
      "execution_count": 22,
      "outputs": [
        {
          "output_type": "execute_result",
          "data": {
            "text/plain": [
              "'Kavindu Sankalpa possesses a blend of technical expertise, leadership skills, and a passion for data science. He has honed his ability to lead teams, work collaboratively, and achieve common goals through his experiences as a cadet and a cricket player. Additionally, he offers data analysis services on Fiverr, showcasing his technical skills in providing valuable insights. Kavindu is deeply interested in AI and data science, continually seeking to expand his knowledge and skills in these areas.'"
            ],
            "application/vnd.google.colaboratory.intrinsic+json": {
              "type": "string"
            }
          },
          "metadata": {},
          "execution_count": 22
        }
      ]
    },
    {
      "cell_type": "code",
      "source": [
        "response = rag_chain.invoke({\"input\": \"Do you remember chat history\"})\n",
        "\n",
        "response[\"answer\"]"
      ],
      "metadata": {
        "colab": {
          "base_uri": "https://localhost:8080/",
          "height": 36
        },
        "id": "puqcKTeGCBBl",
        "outputId": "d2652acc-8b5a-4ef6-b109-216aa0390665"
      },
      "execution_count": 23,
      "outputs": [
        {
          "output_type": "execute_result",
          "data": {
            "text/plain": [
              "\"I don't have the ability to remember past interactions or chat history. Each conversation is independent.\""
            ],
            "application/vnd.google.colaboratory.intrinsic+json": {
              "type": "string"
            }
          },
          "metadata": {},
          "execution_count": 23
        }
      ]
    },
    {
      "cell_type": "markdown",
      "source": [
        "## **Add Chat History**"
      ],
      "metadata": {
        "id": "FuZ_gT-B6amL"
      }
    },
    {
      "cell_type": "code",
      "source": [
        "from langchain.chains import create_history_aware_retriever\n",
        "from langchain_core.prompts import MessagesPlaceholder\n",
        "\n",
        "# define the contextualize system prompt\n",
        "contextualize_system_prompt = (\n",
        "    \"Using chat history and the latest user question, just reformulate question if needed and otherwise return it as is\"\n",
        ")\n",
        "\n",
        "# create the cotextualize prompt template\n",
        "cotextualize_prompt = ChatPromptTemplate.from_messages(\n",
        "    [\n",
        "        (\"system\", contextualize_system_prompt),\n",
        "        MessagesPlaceholder(variable_name=\"chat_history\"),\n",
        "        (\"user\", \"{input}\"),\n",
        "    ]\n",
        ")\n",
        "\n",
        "# create the history aware retriever\n",
        "history_aware_retriever = create_history_aware_retriever(llm, retriever, cotextualize_prompt)"
      ],
      "metadata": {
        "id": "OMXfxTs05hhS"
      },
      "execution_count": 25,
      "outputs": []
    },
    {
      "cell_type": "markdown",
      "source": [
        "### **Create History Aware Retriever**"
      ],
      "metadata": {
        "id": "8Oiz0MTC6hog"
      }
    },
    {
      "cell_type": "code",
      "source": [
        "from langchain.chains import create_history_aware_retriever\n",
        "from langchain_core.prompts import MessagesPlaceholder\n",
        "\n",
        "system_prompt = (\n",
        "    \"You are an intelligent chatbot. Use the following context to answer the question. If you don't know the answer, just say that you don't know\"\n",
        "    \"\\n\\n\"\n",
        "    \"{context}\"\n",
        ")\n",
        "\n",
        "# create the prompt template\n",
        "prompt = ChatPromptTemplate.from_messages(\n",
        "    [\n",
        "        (\"system\", system_prompt),\n",
        "        MessagesPlaceholder(variable_name=\"chat_history\"),\n",
        "        (\"user\", \"{input}\"),\n",
        "    ]\n",
        ")"
      ],
      "metadata": {
        "id": "4fU4u0G98HEG"
      },
      "execution_count": 26,
      "outputs": []
    },
    {
      "cell_type": "code",
      "source": [
        "prompt"
      ],
      "metadata": {
        "colab": {
          "base_uri": "https://localhost:8080/"
        },
        "id": "rd-vxl3A9M7y",
        "outputId": "856b7f64-fc5b-4325-a923-fa33c5d59952"
      },
      "execution_count": 27,
      "outputs": [
        {
          "output_type": "execute_result",
          "data": {
            "text/plain": [
              "ChatPromptTemplate(input_variables=['chat_history', 'context', 'input'], input_types={'chat_history': typing.List[typing.Union[langchain_core.messages.ai.AIMessage, langchain_core.messages.human.HumanMessage, langchain_core.messages.chat.ChatMessage, langchain_core.messages.system.SystemMessage, langchain_core.messages.function.FunctionMessage, langchain_core.messages.tool.ToolMessage]]}, messages=[SystemMessagePromptTemplate(prompt=PromptTemplate(input_variables=['context'], template=\"You are an intelligent chatbot. Use the following context to answer the question. If you don't know the answer, just say that you don't know\\n\\n{context}\")), MessagesPlaceholder(variable_name='chat_history'), HumanMessagePromptTemplate(prompt=PromptTemplate(input_variables=['input'], template='{input}'))])"
            ]
          },
          "metadata": {},
          "execution_count": 27
        }
      ]
    },
    {
      "cell_type": "code",
      "source": [
        "# create the question answering chain\n",
        "qa_chain = create_stuff_documents_chain(llm, prompt)\n",
        "\n",
        "# create the RAG chain\n",
        "rag_chain = create_retrieval_chain(history_aware_retriever, qa_chain)"
      ],
      "metadata": {
        "id": "qTetYgMF9Olc"
      },
      "execution_count": 28,
      "outputs": []
    },
    {
      "cell_type": "markdown",
      "source": [
        "### **Manage Chat Sessin History**"
      ],
      "metadata": {
        "id": "KXOswGRx9dw9"
      }
    },
    {
      "cell_type": "code",
      "source": [
        "from langchain_community.chat_message_histories import ChatMessageHistory\n",
        "from langchain_core.chat_history import BaseChatMessageHistory\n",
        "from langchain_core.runnables.history import RunnableWithMessageHistory\n",
        "\n",
        "# initialize the store for session histories\n",
        "store = {}\n",
        "\n",
        "# function to get the session history for a given session ID\n",
        "def get_session_history(session_id: str) -> BaseChatMessageHistory:\n",
        "    if session_id not in store:\n",
        "        store[session_id] = ChatMessageHistory()\n",
        "    return store[session_id]\n",
        "\n",
        "# create the conversational RAG chain with session history\n",
        "conversational_rag_chain = RunnableWithMessageHistory(\n",
        "    rag_chain,\n",
        "    get_session_history,\n",
        "    input_messages_key = \"input\",\n",
        "    history_messages_key = \"chat_history\",\n",
        "    output_messages_key = \"answer\",\n",
        ")"
      ],
      "metadata": {
        "id": "talg9qYB9c6J"
      },
      "execution_count": 29,
      "outputs": []
    },
    {
      "cell_type": "markdown",
      "source": [
        "## **Invoke Conversational RAG Chain With Example Questions**"
      ],
      "metadata": {
        "id": "TkRFmboh_FmE"
      }
    },
    {
      "cell_type": "code",
      "source": [
        "response = conversational_rag_chain.invoke(\n",
        "    {\"input\": \"Who is Sankalpa?\"},\n",
        "    config={\"configurable\": {\"session_id\": \"101\"}},\n",
        ")\n",
        "\n",
        "response[\"answer\"]"
      ],
      "metadata": {
        "colab": {
          "base_uri": "https://localhost:8080/",
          "height": 53
        },
        "id": "h8zDXgju_E-I",
        "outputId": "46697841-140f-4dbf-880f-801dce42a380"
      },
      "execution_count": 30,
      "outputs": [
        {
          "output_type": "execute_result",
          "data": {
            "text/plain": [
              "'Sankalpa is a dedicated Information Technology undergraduate at the Institute of Technology, University of Moratuwa, who is passionate about leveraging technology to solve real-world problems and drive innovation.'"
            ],
            "application/vnd.google.colaboratory.intrinsic+json": {
              "type": "string"
            }
          },
          "metadata": {},
          "execution_count": 30
        }
      ]
    },
    {
      "cell_type": "code",
      "source": [
        "response = conversational_rag_chain.invoke(\n",
        "    {\"input\": \"What are the skills Sankalpa have?\"},\n",
        "    config={\"configurable\": {\"session_id\": \"101\"}},\n",
        ")\n",
        "\n",
        "response[\"answer\"]"
      ],
      "metadata": {
        "colab": {
          "base_uri": "https://localhost:8080/",
          "height": 36
        },
        "id": "gct38rjY_ii9",
        "outputId": "662ddd29-4da4-4aac-d225-ba8f9945bdee"
      },
      "execution_count": 31,
      "outputs": [
        {
          "output_type": "execute_result",
          "data": {
            "text/plain": [
              "'Sankalpa has technical expertise in data analysis, leadership skills gained through experiences as a cadet and cricket player, and a passion for data science and AI.'"
            ],
            "application/vnd.google.colaboratory.intrinsic+json": {
              "type": "string"
            }
          },
          "metadata": {},
          "execution_count": 31
        }
      ]
    },
    {
      "cell_type": "code",
      "source": [
        "response = conversational_rag_chain.invoke(\n",
        "    {\"input\": \"Can you listdown\"},\n",
        "    config={\"configurable\": {\"session_id\": \"101\"}},\n",
        ")\n",
        "\n",
        "response[\"answer\"]"
      ],
      "metadata": {
        "colab": {
          "base_uri": "https://localhost:8080/",
          "height": 70
        },
        "id": "f7XGeefyBfbH",
        "outputId": "af99dcc6-47d5-43f0-c84f-6a5616759d9f"
      },
      "execution_count": 32,
      "outputs": [
        {
          "output_type": "execute_result",
          "data": {
            "text/plain": [
              "'Sure! Here are the skills that Sankalpa possesses:\\n\\n1. Proficiency in programming languages: Python, R\\n2. Data analysis and machine learning skills using libraries like NumPy and scikit-learn\\n3. Database management skills in MySQL\\n4. Experience with tools and software such as AMOS, EViews, Jamovi, Minitab, SmartPLS, Mplus\\n5. Leadership and teamwork skills honed through roles as a cadet and cricket player\\n6. Offering data analysis services on Fiverr, providing valuable insights using technical skills'"
            ],
            "application/vnd.google.colaboratory.intrinsic+json": {
              "type": "string"
            }
          },
          "metadata": {},
          "execution_count": 32
        }
      ]
    }
  ]
}